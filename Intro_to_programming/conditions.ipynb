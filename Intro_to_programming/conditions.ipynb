from learntools.core import binder
binder.bind(globals())
from learntools.intro_to_programming.ex4 import *
print('Setup complete.')
